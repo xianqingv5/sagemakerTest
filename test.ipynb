{
 "cells": [
  {
   "cell_type": "code",
   "execution_count": 1,
   "metadata": {},
   "outputs": [],
   "source": [
    "import numpy as np\n",
    "import pandas as pd\n",
    "import matplotlib.pyplot as plt\n",
    "%matplotlib inline\n",
    "from sklearn.svm import SVC"
   ]
  },
  {
   "cell_type": "code",
   "execution_count": 2,
   "metadata": {},
   "outputs": [],
   "source": [
    "data = pd.read_csv('./20210605_074859_39194_wkvzn.csv')"
   ]
  },
  {
   "cell_type": "code",
   "execution_count": 4,
   "metadata": {},
   "outputs": [],
   "source": [
    "#data.info()"
   ]
  },
  {
   "cell_type": "code",
   "execution_count": 5,
   "metadata": {},
   "outputs": [
    {
     "data": {
      "text/html": [
       "<div>\n",
       "<style scoped>\n",
       "    .dataframe tbody tr th:only-of-type {\n",
       "        vertical-align: middle;\n",
       "    }\n",
       "\n",
       "    .dataframe tbody tr th {\n",
       "        vertical-align: top;\n",
       "    }\n",
       "\n",
       "    .dataframe thead th {\n",
       "        text-align: right;\n",
       "    }\n",
       "</style>\n",
       "<table border=\"1\" class=\"dataframe\">\n",
       "  <thead>\n",
       "    <tr style=\"text-align: right;\">\n",
       "      <th></th>\n",
       "      <th>#user_id</th>\n",
       "      <th>#account_id</th>\n",
       "      <th>新增日期</th>\n",
       "      <th>激励pv</th>\n",
       "      <th>激励ecpm</th>\n",
       "      <th>其他pv</th>\n",
       "      <th>其他ecpm</th>\n",
       "      <th>关卡数</th>\n",
       "      <th>cpa</th>\n",
       "      <th>7日回收</th>\n",
       "    </tr>\n",
       "  </thead>\n",
       "  <tbody>\n",
       "    <tr>\n",
       "      <th>0</th>\n",
       "      <td>845694607653744642</td>\n",
       "      <td>03ab6210ad8121bc</td>\n",
       "      <td>2021-05-22</td>\n",
       "      <td>8</td>\n",
       "      <td>80.31</td>\n",
       "      <td>14</td>\n",
       "      <td>5.36</td>\n",
       "      <td>1</td>\n",
       "      <td>3.50</td>\n",
       "      <td>5.97</td>\n",
       "    </tr>\n",
       "    <tr>\n",
       "      <th>1</th>\n",
       "      <td>845699201877938176</td>\n",
       "      <td>48c17aa6f6e74d57</td>\n",
       "      <td>2021-05-22</td>\n",
       "      <td>8</td>\n",
       "      <td>111.63</td>\n",
       "      <td>22</td>\n",
       "      <td>17.73</td>\n",
       "      <td>3</td>\n",
       "      <td>3.50</td>\n",
       "      <td>1.28</td>\n",
       "    </tr>\n",
       "    <tr>\n",
       "      <th>2</th>\n",
       "      <td>845622218721206272</td>\n",
       "      <td>6476ecd7bf317f44</td>\n",
       "      <td>2021-05-22</td>\n",
       "      <td>32</td>\n",
       "      <td>37.42</td>\n",
       "      <td>164</td>\n",
       "      <td>6.51</td>\n",
       "      <td>16</td>\n",
       "      <td>3.26</td>\n",
       "      <td>4.05</td>\n",
       "    </tr>\n",
       "    <tr>\n",
       "      <th>3</th>\n",
       "      <td>845382590654582784</td>\n",
       "      <td>6c9031f696befaf9</td>\n",
       "      <td>2021-05-21</td>\n",
       "      <td>13</td>\n",
       "      <td>81.88</td>\n",
       "      <td>32</td>\n",
       "      <td>7.44</td>\n",
       "      <td>5</td>\n",
       "      <td>3.62</td>\n",
       "      <td>1.30</td>\n",
       "    </tr>\n",
       "    <tr>\n",
       "      <th>4</th>\n",
       "      <td>845356688825004034</td>\n",
       "      <td>6ef6ed5640266318</td>\n",
       "      <td>2021-05-21</td>\n",
       "      <td>46</td>\n",
       "      <td>35.44</td>\n",
       "      <td>113</td>\n",
       "      <td>5.88</td>\n",
       "      <td>16</td>\n",
       "      <td>3.62</td>\n",
       "      <td>2.29</td>\n",
       "    </tr>\n",
       "  </tbody>\n",
       "</table>\n",
       "</div>"
      ],
      "text/plain": [
       "             #user_id       #account_id        新增日期  激励pv  激励ecpm  其他pv  \\\n",
       "0  845694607653744642  03ab6210ad8121bc  2021-05-22     8   80.31    14   \n",
       "1  845699201877938176  48c17aa6f6e74d57  2021-05-22     8  111.63    22   \n",
       "2  845622218721206272  6476ecd7bf317f44  2021-05-22    32   37.42   164   \n",
       "3  845382590654582784  6c9031f696befaf9  2021-05-21    13   81.88    32   \n",
       "4  845356688825004034  6ef6ed5640266318  2021-05-21    46   35.44   113   \n",
       "\n",
       "   其他ecpm  关卡数   cpa  7日回收  \n",
       "0    5.36    1  3.50  5.97  \n",
       "1   17.73    3  3.50  1.28  \n",
       "2    6.51   16  3.26  4.05  \n",
       "3    7.44    5  3.62  1.30  \n",
       "4    5.88   16  3.62  2.29  "
      ]
     },
     "execution_count": 5,
     "metadata": {},
     "output_type": "execute_result"
    }
   ],
   "source": [
    "data.head()"
   ]
  },
  {
   "cell_type": "code",
   "execution_count": 6,
   "metadata": {},
   "outputs": [],
   "source": [
    "data['回收率'] = data['7日回收']/data['cpa']"
   ]
  },
  {
   "cell_type": "code",
   "execution_count": 7,
   "metadata": {},
   "outputs": [],
   "source": [
    "data['是否回收'] = data['回收率'].apply(lambda x: 1 if x>=1 else 0)"
   ]
  },
  {
   "cell_type": "code",
   "execution_count": 8,
   "metadata": {},
   "outputs": [
    {
     "data": {
      "text/html": [
       "<div>\n",
       "<style scoped>\n",
       "    .dataframe tbody tr th:only-of-type {\n",
       "        vertical-align: middle;\n",
       "    }\n",
       "\n",
       "    .dataframe tbody tr th {\n",
       "        vertical-align: top;\n",
       "    }\n",
       "\n",
       "    .dataframe thead th {\n",
       "        text-align: right;\n",
       "    }\n",
       "</style>\n",
       "<table border=\"1\" class=\"dataframe\">\n",
       "  <thead>\n",
       "    <tr style=\"text-align: right;\">\n",
       "      <th></th>\n",
       "      <th>#user_id</th>\n",
       "      <th>#account_id</th>\n",
       "      <th>新增日期</th>\n",
       "      <th>激励pv</th>\n",
       "      <th>激励ecpm</th>\n",
       "      <th>其他pv</th>\n",
       "      <th>其他ecpm</th>\n",
       "      <th>关卡数</th>\n",
       "      <th>cpa</th>\n",
       "      <th>7日回收</th>\n",
       "      <th>回收率</th>\n",
       "      <th>是否回收</th>\n",
       "    </tr>\n",
       "  </thead>\n",
       "  <tbody>\n",
       "    <tr>\n",
       "      <th>0</th>\n",
       "      <td>845694607653744642</td>\n",
       "      <td>03ab6210ad8121bc</td>\n",
       "      <td>2021-05-22</td>\n",
       "      <td>8</td>\n",
       "      <td>80.31</td>\n",
       "      <td>14</td>\n",
       "      <td>5.36</td>\n",
       "      <td>1</td>\n",
       "      <td>3.50</td>\n",
       "      <td>5.97</td>\n",
       "      <td>1.705714</td>\n",
       "      <td>1</td>\n",
       "    </tr>\n",
       "    <tr>\n",
       "      <th>1</th>\n",
       "      <td>845699201877938176</td>\n",
       "      <td>48c17aa6f6e74d57</td>\n",
       "      <td>2021-05-22</td>\n",
       "      <td>8</td>\n",
       "      <td>111.63</td>\n",
       "      <td>22</td>\n",
       "      <td>17.73</td>\n",
       "      <td>3</td>\n",
       "      <td>3.50</td>\n",
       "      <td>1.28</td>\n",
       "      <td>0.365714</td>\n",
       "      <td>0</td>\n",
       "    </tr>\n",
       "    <tr>\n",
       "      <th>2</th>\n",
       "      <td>845622218721206272</td>\n",
       "      <td>6476ecd7bf317f44</td>\n",
       "      <td>2021-05-22</td>\n",
       "      <td>32</td>\n",
       "      <td>37.42</td>\n",
       "      <td>164</td>\n",
       "      <td>6.51</td>\n",
       "      <td>16</td>\n",
       "      <td>3.26</td>\n",
       "      <td>4.05</td>\n",
       "      <td>1.242331</td>\n",
       "      <td>1</td>\n",
       "    </tr>\n",
       "    <tr>\n",
       "      <th>3</th>\n",
       "      <td>845382590654582784</td>\n",
       "      <td>6c9031f696befaf9</td>\n",
       "      <td>2021-05-21</td>\n",
       "      <td>13</td>\n",
       "      <td>81.88</td>\n",
       "      <td>32</td>\n",
       "      <td>7.44</td>\n",
       "      <td>5</td>\n",
       "      <td>3.62</td>\n",
       "      <td>1.30</td>\n",
       "      <td>0.359116</td>\n",
       "      <td>0</td>\n",
       "    </tr>\n",
       "    <tr>\n",
       "      <th>4</th>\n",
       "      <td>845356688825004034</td>\n",
       "      <td>6ef6ed5640266318</td>\n",
       "      <td>2021-05-21</td>\n",
       "      <td>46</td>\n",
       "      <td>35.44</td>\n",
       "      <td>113</td>\n",
       "      <td>5.88</td>\n",
       "      <td>16</td>\n",
       "      <td>3.62</td>\n",
       "      <td>2.29</td>\n",
       "      <td>0.632597</td>\n",
       "      <td>0</td>\n",
       "    </tr>\n",
       "  </tbody>\n",
       "</table>\n",
       "</div>"
      ],
      "text/plain": [
       "             #user_id       #account_id        新增日期  激励pv  激励ecpm  其他pv  \\\n",
       "0  845694607653744642  03ab6210ad8121bc  2021-05-22     8   80.31    14   \n",
       "1  845699201877938176  48c17aa6f6e74d57  2021-05-22     8  111.63    22   \n",
       "2  845622218721206272  6476ecd7bf317f44  2021-05-22    32   37.42   164   \n",
       "3  845382590654582784  6c9031f696befaf9  2021-05-21    13   81.88    32   \n",
       "4  845356688825004034  6ef6ed5640266318  2021-05-21    46   35.44   113   \n",
       "\n",
       "   其他ecpm  关卡数   cpa  7日回收       回收率  是否回收  \n",
       "0    5.36    1  3.50  5.97  1.705714     1  \n",
       "1   17.73    3  3.50  1.28  0.365714     0  \n",
       "2    6.51   16  3.26  4.05  1.242331     1  \n",
       "3    7.44    5  3.62  1.30  0.359116     0  \n",
       "4    5.88   16  3.62  2.29  0.632597     0  "
      ]
     },
     "execution_count": 8,
     "metadata": {},
     "output_type": "execute_result"
    }
   ],
   "source": [
    "data.head()"
   ]
  },
  {
   "cell_type": "code",
   "execution_count": 9,
   "metadata": {
    "scrolled": true
   },
   "outputs": [
    {
     "data": {
      "text/plain": [
       "0    1849\n",
       "1     946\n",
       "Name: 是否回收, dtype: int64"
      ]
     },
     "execution_count": 9,
     "metadata": {},
     "output_type": "execute_result"
    }
   ],
   "source": [
    "data['是否回收'].value_counts()"
   ]
  },
  {
   "cell_type": "code",
   "execution_count": 10,
   "metadata": {},
   "outputs": [
    {
     "data": {
      "text/plain": [
       "2795"
      ]
     },
     "execution_count": 10,
     "metadata": {},
     "output_type": "execute_result"
    }
   ],
   "source": [
    "data['#user_id'].nunique()"
   ]
  },
  {
   "cell_type": "code",
   "execution_count": 11,
   "metadata": {},
   "outputs": [],
   "source": [
    "X = data[['激励pv', '激励ecpm', '其他pv', '其他ecpm',\n",
    "       '关卡数']]"
   ]
  },
  {
   "cell_type": "code",
   "execution_count": 12,
   "metadata": {},
   "outputs": [],
   "source": [
    "y = data['是否回收']"
   ]
  },
  {
   "cell_type": "code",
   "execution_count": 13,
   "metadata": {},
   "outputs": [
    {
     "data": {
      "text/html": [
       "<div>\n",
       "<style scoped>\n",
       "    .dataframe tbody tr th:only-of-type {\n",
       "        vertical-align: middle;\n",
       "    }\n",
       "\n",
       "    .dataframe tbody tr th {\n",
       "        vertical-align: top;\n",
       "    }\n",
       "\n",
       "    .dataframe thead th {\n",
       "        text-align: right;\n",
       "    }\n",
       "</style>\n",
       "<table border=\"1\" class=\"dataframe\">\n",
       "  <thead>\n",
       "    <tr style=\"text-align: right;\">\n",
       "      <th></th>\n",
       "      <th>激励pv</th>\n",
       "      <th>激励ecpm</th>\n",
       "      <th>其他pv</th>\n",
       "      <th>其他ecpm</th>\n",
       "      <th>关卡数</th>\n",
       "    </tr>\n",
       "  </thead>\n",
       "  <tbody>\n",
       "    <tr>\n",
       "      <th>0</th>\n",
       "      <td>8</td>\n",
       "      <td>80.31</td>\n",
       "      <td>14</td>\n",
       "      <td>5.36</td>\n",
       "      <td>1</td>\n",
       "    </tr>\n",
       "    <tr>\n",
       "      <th>1</th>\n",
       "      <td>8</td>\n",
       "      <td>111.63</td>\n",
       "      <td>22</td>\n",
       "      <td>17.73</td>\n",
       "      <td>3</td>\n",
       "    </tr>\n",
       "    <tr>\n",
       "      <th>2</th>\n",
       "      <td>32</td>\n",
       "      <td>37.42</td>\n",
       "      <td>164</td>\n",
       "      <td>6.51</td>\n",
       "      <td>16</td>\n",
       "    </tr>\n",
       "    <tr>\n",
       "      <th>3</th>\n",
       "      <td>13</td>\n",
       "      <td>81.88</td>\n",
       "      <td>32</td>\n",
       "      <td>7.44</td>\n",
       "      <td>5</td>\n",
       "    </tr>\n",
       "    <tr>\n",
       "      <th>4</th>\n",
       "      <td>46</td>\n",
       "      <td>35.44</td>\n",
       "      <td>113</td>\n",
       "      <td>5.88</td>\n",
       "      <td>16</td>\n",
       "    </tr>\n",
       "  </tbody>\n",
       "</table>\n",
       "</div>"
      ],
      "text/plain": [
       "   激励pv  激励ecpm  其他pv  其他ecpm  关卡数\n",
       "0     8   80.31    14    5.36    1\n",
       "1     8  111.63    22   17.73    3\n",
       "2    32   37.42   164    6.51   16\n",
       "3    13   81.88    32    7.44    5\n",
       "4    46   35.44   113    5.88   16"
      ]
     },
     "execution_count": 13,
     "metadata": {},
     "output_type": "execute_result"
    }
   ],
   "source": [
    "X.head()"
   ]
  },
  {
   "cell_type": "code",
   "execution_count": 14,
   "metadata": {},
   "outputs": [],
   "source": [
    "from sklearn.model_selection import train_test_split"
   ]
  },
  {
   "cell_type": "code",
   "execution_count": 15,
   "metadata": {},
   "outputs": [],
   "source": [
    "X_train, X_test, y_train, y_test = train_test_split(X, y)"
   ]
  },
  {
   "cell_type": "code",
   "execution_count": 17,
   "metadata": {},
   "outputs": [],
   "source": [
    "#sv.score(X_test, y_test)"
   ]
  },
  {
   "cell_type": "code",
   "execution_count": 18,
   "metadata": {},
   "outputs": [],
   "source": [
    "#rfc.score(X_test, y_test)"
   ]
  },
  {
   "cell_type": "code",
   "execution_count": 32,
   "metadata": {},
   "outputs": [],
   "source": [
    "import json\n",
    "import os\n",
    "import time\n",
    "import uuid\n",
    "\n",
    "import boto3\n",
    "import sagemaker\n",
    "\n",
    "region = boto3.Session().region_name\n",
    "container = sagemaker.image_uris.retrieve(\"xgboost\", region, \"1.2-1\")\n",
    "hyperparameters = {\n",
    "    \"max_depth\":\"5\",\n",
    "    \"objective\": \"binary:logistic\",\n",
    "    \"num_round\": \"4\",\n",
    "    \"eval_metric\": \"auc\"\n",
    "}\n",
    "# train_content_type = (\n",
    "#     \"application/x-parquet\" if output_content_type.upper() == \"PARQUET\"\n",
    "#     else \"text/csv\"\n",
    "# )\n",
    "train_input = sagemaker.inputs.TrainingInput(\n",
    "    s3_data=f\"s3://sagemaker-studio-g8hgbwmv6h6/data_new5.csv\",\n",
    "    content_type=\"text/csv\",\n",
    ")"
   ]
  },
  {
   "cell_type": "code",
   "execution_count": 33,
   "metadata": {},
   "outputs": [
    {
     "name": "stdout",
     "output_type": "stream",
     "text": [
      "2021-06-08 10:30:51 Starting - Starting the training job...\n",
      "2021-06-08 10:30:54 Starting - Launching requested ML instancesProfilerReport-1623148251: InProgress\n",
      "......\n",
      "2021-06-08 10:32:18 Starting - Preparing the instances for training......\n",
      "2021-06-08 10:33:18 Downloading - Downloading input data...\n",
      "2021-06-08 10:33:48 Training - Training image download completed. Training in progress.\n",
      "2021-06-08 10:33:48 Uploading - Uploading generated training model.\u001b[34m[2021-06-08 10:33:44.654 ip-10-0-78-255.ec2.internal:1 INFO utils.py:27] RULE_JOB_STOP_SIGNAL_FILENAME: None\u001b[0m\n",
      "\u001b[34mINFO:sagemaker-containers:Imported framework sagemaker_xgboost_container.training\u001b[0m\n",
      "\u001b[34mINFO:sagemaker-containers:Failed to parse hyperparameter eval_metric value auc to Json.\u001b[0m\n",
      "\u001b[34mReturning the value itself\u001b[0m\n",
      "\u001b[34mINFO:sagemaker-containers:Failed to parse hyperparameter objective value binary:logistic to Json.\u001b[0m\n",
      "\u001b[34mReturning the value itself\u001b[0m\n",
      "\u001b[34mINFO:sagemaker-containers:No GPUs detected (normal if no gpus installed)\u001b[0m\n",
      "\u001b[34mINFO:sagemaker_xgboost_container.training:Running XGBoost Sagemaker in algorithm mode\u001b[0m\n",
      "\u001b[34mINFO:root:Determined delimiter of CSV input is ','\u001b[0m\n",
      "\u001b[34mINFO:root:Determined delimiter of CSV input is ','\u001b[0m\n",
      "\u001b[34mINFO:root:Single node training.\u001b[0m\n",
      "\u001b[34mINFO:root:Train matrix has 2795 rows and 5 columns\u001b[0m\n",
      "\u001b[34m[0]#011train-auc:0.90945\u001b[0m\n",
      "\u001b[34m[1]#011train-auc:0.91609\u001b[0m\n",
      "\u001b[34m[2]#011train-auc:0.92047\u001b[0m\n",
      "\u001b[34m[3]#011train-auc:0.92299\u001b[0m\n",
      "\n",
      "2021-06-08 10:34:18 Completed - Training job completed\n",
      "Training seconds: 51\n",
      "Billable seconds: 51\n"
     ]
    }
   ],
   "source": [
    "iam_role = sagemaker.get_execution_role()\n",
    "\n",
    "estimator = sagemaker.estimator.Estimator(\n",
    "    container,\n",
    "    iam_role,\n",
    "    hyperparameters=hyperparameters,\n",
    "    instance_count=1,\n",
    "    instance_type=\"ml.m5.2xlarge\",\n",
    ")\n",
    "estimator.fit({\"train\": train_input})"
   ]
  },
  {
   "cell_type": "code",
   "execution_count": null,
   "metadata": {},
   "outputs": [],
   "source": [
    "# import xgboost as xgb"
   ]
  },
  {
   "cell_type": "code",
   "execution_count": null,
   "metadata": {},
   "outputs": [],
   "source": [
    "# sgbclf = xgb.XGBClassifier().fit(X_train, y_train)"
   ]
  },
  {
   "cell_type": "code",
   "execution_count": null,
   "metadata": {},
   "outputs": [],
   "source": [
    "# sgbclf.score(X_test, y_test)"
   ]
  },
  {
   "cell_type": "markdown",
   "metadata": {},
   "source": [
    "mlp = MLPClassifier(hidden_layer_sizes=(50, 100), max_iter=100).fit(X_train,y_train)\n",
    "\n",
    "mlp.score(X_train, y_train)\n",
    "\n",
    "mlp.score(X_test, y_test)\n",
    "\n",
    "from sklearn.metrics import confusion_matrix\n",
    "\n"
   ]
  },
  {
   "cell_type": "code",
   "execution_count": null,
   "metadata": {},
   "outputs": [],
   "source": [
    "from sagemaker.serializers import CSVSerializer\n",
    "xgb_predictor = estimator.deploy(\n",
    "    initial_instance_count = 1, \n",
    "    instance_type = 'ml.m4.xlarge',\n",
    "    serializer=CSVSerializer())"
   ]
  },
  {
   "cell_type": "code",
   "execution_count": null,
   "metadata": {},
   "outputs": [],
   "source": [
    "response = xgb_predictor.predict(input).decode('utf-8')\n",
    "print(response)"
   ]
  }
 ],
 "metadata": {
  "instance_type": "ml.t3.medium",
  "kernelspec": {
   "display_name": "Python 3 (Data Science)",
   "language": "python",
   "name": "python3__SAGEMAKER_INTERNAL__arn:aws:sagemaker:us-east-1:081325390199:image/datascience-1.0"
  },
  "language_info": {
   "codemirror_mode": {
    "name": "ipython",
    "version": 3
   },
   "file_extension": ".py",
   "mimetype": "text/x-python",
   "name": "python",
   "nbconvert_exporter": "python",
   "pygments_lexer": "ipython3",
   "version": "3.7.10"
  },
  "toc": {
   "base_numbering": 1,
   "nav_menu": {},
   "number_sections": true,
   "sideBar": true,
   "skip_h1_title": false,
   "title_cell": "Table of Contents",
   "title_sidebar": "Contents",
   "toc_cell": false,
   "toc_position": {},
   "toc_section_display": true,
   "toc_window_display": false
  }
 },
 "nbformat": 4,
 "nbformat_minor": 4
}
